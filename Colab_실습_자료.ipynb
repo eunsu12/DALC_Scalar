{
  "nbformat": 4,
  "nbformat_minor": 0,
  "metadata": {
    "colab": {
      "name": "Colab_실습_자료.ipynb",
      "provenance": [],
      "collapsed_sections": [],
      "include_colab_link": true
    },
    "kernelspec": {
      "name": "python3",
      "display_name": "Python 3"
    }
  },
  "cells": [
    {
      "cell_type": "markdown",
      "metadata": {
        "id": "view-in-github",
        "colab_type": "text"
      },
      "source": [
        "<a href=\"https://colab.research.google.com/github/eunsu12/DALC_Scalar/blob/main/Colab_%EC%8B%A4%EC%8A%B5_%EC%9E%90%EB%A3%8C.ipynb\" target=\"_parent\"><img src=\"https://colab.research.google.com/assets/colab-badge.svg\" alt=\"Open In Colab\"/></a>"
      ]
    },
    {
      "cell_type": "markdown",
      "metadata": {
        "id": "EWndrTzeEvmT"
      },
      "source": [
        "# Colab 실습 하기\r\n"
      ]
    },
    {
      "cell_type": "markdown",
      "metadata": {
        "id": "f93DYiLJE1Iz"
      },
      "source": [
        "## 1. 마크다운으로 내 깃허브 링크 삽입하기\r\n",
        "\r\n",
        "###https://github.com/eunsu12\r\n"
      ]
    },
    {
      "cell_type": "markdown",
      "metadata": {
        "id": "wEZnlUbIFVa-"
      },
      "source": [
        "## 2. 마크다운으로 이미지 삽입하기\r\n",
        "\r\n",
        "- 이미지는 인터넷에 있는 이미지 아무거나 또는 내 pc에 저장되어 있는 아무이미지를 삽입해주시면 됩니다. \r\n",
        "\r\n",
        "![](https://www.dhnews.co.kr/news/photo/202007/126072_129553_129.jpg)\r\n",
        "![](https://s3.ap-northeast-2.amazonaws.com/event-localnaeil/FileData/Article/201807/647cae0e-70e2-41ee-ad48-0da8df9e0217.jpg)"
      ]
    },
    {
      "cell_type": "markdown",
      "metadata": {
        "id": "rtnleslqFhT8"
      },
      "source": [
        "## 3. 마크다운으로 수업 배운 것 정리해보기\r\n",
        "- 전공수업, 교양 수업, 오늘 ot내용, 요즘 준비하는 자격증 내용 등등 기타 자기가 최근 배운 것 아무거나 최소 3줄이상 작성해주세요. (이때 단어강조하기, 문장 띄어쓰기, 인용구등 사용하기)\r\n",
        "\r\n",
        "(__전공수업__: 데베기, 조방론, 수통1,객지프  \r\n",
        "__교양수업__: 한문이, 매스컴  \r\n",
        " __오늘 ot내용__: colab 사용해서 과제하기   \r\n",
        " __요즘 준비하는 자격증__: HSK3급      \r\n",
        " 최근 운동을 하고 있다)\r\n",
        "> 학기가 시작했으니\r\n",
        ">> 열심히 살아야지는 무슨\r\n",
        ">>> \"종강 원해ㅋㅋ\"\r\n",
        "\r\n"
      ]
    }
  ]
}