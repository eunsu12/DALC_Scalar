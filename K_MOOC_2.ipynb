{
  "nbformat": 4,
  "nbformat_minor": 0,
  "metadata": {
    "colab": {
      "name": "K-MOOC-2.ipynb",
      "provenance": [],
      "authorship_tag": "ABX9TyMQAB/u2f4a+fkoVZZ/bBhV",
      "include_colab_link": true
    },
    "kernelspec": {
      "name": "python3",
      "display_name": "Python 3"
    },
    "language_info": {
      "name": "python"
    }
  },
  "cells": [
    {
      "cell_type": "markdown",
      "metadata": {
        "id": "view-in-github",
        "colab_type": "text"
      },
      "source": [
        "<a href=\"https://colab.research.google.com/github/eunsu12/DALC_Scalar/blob/main/K_MOOC_2.ipynb\" target=\"_parent\"><img src=\"https://colab.research.google.com/assets/colab-badge.svg\" alt=\"Open In Colab\"/></a>"
      ]
    },
    {
      "cell_type": "markdown",
      "metadata": {
        "id": "IsZrn1-iwiPy"
      },
      "source": [
        "# **01 데이터 구조와 Numpy 기초**\n",
        "## **프로그래밍 언어**\n",
        "### R: 통계를 위한 , Python: 연산을 위한 오픈소스 라이브러리 -> 유연성 (Numpy, Pandas, Scipy, Matplotlib, Scikit-Learn\n",
        "## **넘파이** -> import numpy as np\n",
        "* array 단위로 데이터 관리 및 연산 수행 \n",
        "*  복소수 데이터 타입도 표현 가능\n",
        "\n",
        "\n",
        "> ### **배열 슬라이싱** x[start:stop:step]\n",
        ">> #### 기본값:   start=0 , stop은 차원의 크기,  step=1\n",
        "> ### **배열 결합 :  concantenate,vstack(수직스택),hstack(수평스택)**\n",
        "> ### **배열 분할 : split, vsplit, hsplit** \n",
        ">> split(분할 대상 리스트, 분할 위치), hsplit( , [2])->  좌우 2개로 나눔\n"
      ]
    },
    {
      "cell_type": "code",
      "metadata": {
        "id": "L2ekGmbFyXoO"
      },
      "source": [
        "import numpy as np"
      ],
      "execution_count": null,
      "outputs": []
    },
    {
      "cell_type": "code",
      "metadata": {
        "id": "7VIU-Uy1oZsM",
        "colab": {
          "base_uri": "https://localhost:8080/"
        },
        "outputId": "e9e6490a-6be1-4fdd-db97-7789136448a7"
      },
      "source": [
        " # array 정의와 사용방법\n",
        " data1 = [1,2,3,4,5]\n",
        " data2=[6,5,4,3,2,1]\n",
        " print(data1,data2)"
      ],
      "execution_count": null,
      "outputs": [
        {
          "output_type": "stream",
          "text": [
            "[1, 2, 3, 4, 5] [6, 5, 4, 3, 2, 1]\n"
          ],
          "name": "stdout"
        }
      ]
    },
    {
      "cell_type": "code",
      "metadata": {
        "colab": {
          "base_uri": "https://localhost:8080/"
        },
        "id": "AHT3DgAKycPv",
        "outputId": "c704c664-a4e2-46ad-c608-5855a1fcfc0b"
      },
      "source": [
        "ar1 = np.array(data1)\n",
        "ar1"
      ],
      "execution_count": null,
      "outputs": [
        {
          "output_type": "execute_result",
          "data": {
            "text/plain": [
              "array([1, 2, 3, 4, 5])"
            ]
          },
          "metadata": {
            "tags": []
          },
          "execution_count": 3
        }
      ]
    },
    {
      "cell_type": "code",
      "metadata": {
        "colab": {
          "base_uri": "https://localhost:8080/"
        },
        "id": "-wTE7erHykY7",
        "outputId": "3326778d-3eb9-4d70-9581-b9740bcb772d"
      },
      "source": [
        "# 데이터 타입 dtype\n",
        "ar2= np.array(data1, dtype= 'float32')\n",
        "ar2"
      ],
      "execution_count": null,
      "outputs": [
        {
          "output_type": "execute_result",
          "data": {
            "text/plain": [
              "array([1., 2., 3., 4., 5.], dtype=float32)"
            ]
          },
          "metadata": {
            "tags": []
          },
          "execution_count": 5
        }
      ]
    },
    {
      "cell_type": "code",
      "metadata": {
        "colab": {
          "base_uri": "https://localhost:8080/"
        },
        "id": "37w9Xx0Gy6Hw",
        "outputId": "790ed36d-09b2-41e6-86d1-e289a4d9fa1b"
      },
      "source": [
        "# 5X3행렬(1에서 4전 2에서 5전 ...)\n",
        "ar3= np.array([range(i,i+3) for i in data1])\n",
        "ar3"
      ],
      "execution_count": null,
      "outputs": [
        {
          "output_type": "execute_result",
          "data": {
            "text/plain": [
              "array([[1, 2, 3],\n",
              "       [2, 3, 4],\n",
              "       [3, 4, 5],\n",
              "       [4, 5, 6],\n",
              "       [5, 6, 7]])"
            ]
          },
          "metadata": {
            "tags": []
          },
          "execution_count": 7
        }
      ]
    },
    {
      "cell_type": "code",
      "metadata": {
        "colab": {
          "base_uri": "https://localhost:8080/"
        },
        "id": "BtBP2a_jz6H4",
        "outputId": "59411229-5b03-4102-bb64-a12642876f66"
      },
      "source": [
        "# full((행렬크기), 지정값)\n",
        "ar4=np.full((3,5),3.14)\n",
        "ar4"
      ],
      "execution_count": null,
      "outputs": [
        {
          "output_type": "execute_result",
          "data": {
            "text/plain": [
              "array([[3.14, 3.14, 3.14, 3.14, 3.14],\n",
              "       [3.14, 3.14, 3.14, 3.14, 3.14],\n",
              "       [3.14, 3.14, 3.14, 3.14, 3.14]])"
            ]
          },
          "metadata": {
            "tags": []
          },
          "execution_count": 9
        }
      ]
    },
    {
      "cell_type": "code",
      "metadata": {
        "colab": {
          "base_uri": "https://localhost:8080/"
        },
        "id": "R4MDyAn40HAi",
        "outputId": "bdcf6215-eb17-4199-c896-01e35488bc66"
      },
      "source": [
        "#range()와 유사\n",
        "ar5 = np.arange(0,20,2)\n",
        "ar5             "
      ],
      "execution_count": null,
      "outputs": [
        {
          "output_type": "execute_result",
          "data": {
            "text/plain": [
              "array([ 0,  2,  4,  6,  8, 10, 12, 14, 16, 18])"
            ]
          },
          "metadata": {
            "tags": []
          },
          "execution_count": 11
        }
      ]
    },
    {
      "cell_type": "code",
      "metadata": {
        "colab": {
          "base_uri": "https://localhost:8080/"
        },
        "id": "KFRdFfwB1RE1",
        "outputId": "72a87155-258a-4f67-e130-3e1faba397e0"
      },
      "source": [
        "#앞 2개의 값 사이에 3개 요소값을 가진 배열 생성\n",
        "ar6=np.linspace(0,1,3) \n",
        "ar6"
      ],
      "execution_count": null,
      "outputs": [
        {
          "output_type": "execute_result",
          "data": {
            "text/plain": [
              "array([0. , 0.5, 1. ])"
            ]
          },
          "metadata": {
            "tags": []
          },
          "execution_count": 12
        }
      ]
    },
    {
      "cell_type": "code",
      "metadata": {
        "colab": {
          "base_uri": "https://localhost:8080/"
        },
        "id": "Ee-vNrIY15dF",
        "outputId": "4a91b6d7-5042-4cf1-9ed6-2438bc0d3342"
      },
      "source": [
        "#3X3 0~1 사이의 무작위 값\n",
        "ar7= np.random.random((3,3))\n",
        "ar7"
      ],
      "execution_count": null,
      "outputs": [
        {
          "output_type": "execute_result",
          "data": {
            "text/plain": [
              "array([[0.56288364, 0.83287358, 0.5499009 ],\n",
              "       [0.57924296, 0.24440918, 0.33942448],\n",
              "       [0.74336731, 0.49091611, 0.63545336]])"
            ]
          },
          "metadata": {
            "tags": []
          },
          "execution_count": 14
        }
      ]
    },
    {
      "cell_type": "code",
      "metadata": {
        "colab": {
          "base_uri": "https://localhost:8080/"
        },
        "id": "colEt5oQ2Pm-",
        "outputId": "1a3cf4ae-0c75-420a-861d-03a863adb1fe"
      },
      "source": [
        "#0~100 사이 3X3\n",
        "ar8= np.random.randint(0,100,(3,3))\n",
        "ar8"
      ],
      "execution_count": null,
      "outputs": [
        {
          "output_type": "execute_result",
          "data": {
            "text/plain": [
              "array([[94, 10, 55],\n",
              "       [ 9, 33, 15],\n",
              "       [59, 86, 42]])"
            ]
          },
          "metadata": {
            "tags": []
          },
          "execution_count": 15
        }
      ]
    },
    {
      "cell_type": "code",
      "metadata": {
        "colab": {
          "base_uri": "https://localhost:8080/"
        },
        "id": "OOKN-GmS2lU5",
        "outputId": "860a41b5-a9d7-4906-ac6f-32180c9d11c4"
      },
      "source": [
        "#3X3의 단위행렬\n",
        "ar9=np.eye(3)\n",
        "ar9"
      ],
      "execution_count": null,
      "outputs": [
        {
          "output_type": "execute_result",
          "data": {
            "text/plain": [
              "array([[1., 0., 0.],\n",
              "       [0., 1., 0.],\n",
              "       [0., 0., 1.]])"
            ]
          },
          "metadata": {
            "tags": []
          },
          "execution_count": 16
        }
      ]
    },
    {
      "cell_type": "code",
      "metadata": {
        "colab": {
          "base_uri": "https://localhost:8080/"
        },
        "id": "hYoYQd8e3C5M",
        "outputId": "f7069cf6-c579-4c78-bf52-2143bc23c541"
      },
      "source": [
        "x=np.random.randint(10,size=(3,4,5))\n",
        "x"
      ],
      "execution_count": null,
      "outputs": [
        {
          "output_type": "execute_result",
          "data": {
            "text/plain": [
              "array([[[8, 3, 6, 1, 9],\n",
              "        [1, 0, 2, 4, 7],\n",
              "        [9, 1, 6, 8, 9],\n",
              "        [9, 5, 2, 6, 6]],\n",
              "\n",
              "       [[4, 4, 1, 0, 0],\n",
              "        [6, 7, 2, 2, 3],\n",
              "        [9, 5, 4, 9, 4],\n",
              "        [9, 5, 2, 5, 3]],\n",
              "\n",
              "       [[0, 1, 5, 4, 1],\n",
              "        [6, 7, 8, 1, 4],\n",
              "        [9, 7, 3, 3, 5],\n",
              "        [7, 5, 7, 6, 9]]])"
            ]
          },
          "metadata": {
            "tags": []
          },
          "execution_count": 17
        }
      ]
    },
    {
      "cell_type": "code",
      "metadata": {
        "colab": {
          "base_uri": "https://localhost:8080/"
        },
        "id": "lUdIA7Tp38E4",
        "outputId": "1ead4821-452c-4ffa-860d-b141116bda19"
      },
      "source": [
        "print('차원의 개수',x.ndim)\n",
        "print('차원의 크기',x.shape)\n",
        "print('전체 배열 크기', x.size)"
      ],
      "execution_count": null,
      "outputs": [
        {
          "output_type": "stream",
          "text": [
            "차원의 개수 3\n",
            "차원의 크기 (3, 4, 5)\n",
            "전체 배열 크기 60\n"
          ],
          "name": "stdout"
        }
      ]
    },
    {
      "cell_type": "code",
      "metadata": {
        "colab": {
          "base_uri": "https://localhost:8080/"
        },
        "id": "kj60F0pq4oo-",
        "outputId": "2199b98b-862b-42f6-cf66-94ddc219df17"
      },
      "source": [
        "y=np.array([2,4,6,8,10])\n",
        "print(y[0],y[-2])"
      ],
      "execution_count": null,
      "outputs": [
        {
          "output_type": "stream",
          "text": [
            "2 8\n"
          ],
          "name": "stdout"
        }
      ]
    },
    {
      "cell_type": "code",
      "metadata": {
        "colab": {
          "base_uri": "https://localhost:8080/"
        },
        "id": "-futUDIx41HP",
        "outputId": "acc85e8b-eee4-4414-86b6-9d72fdf3ebe4"
      },
      "source": [
        "z=np.array([[2,4,6,8,10],[3,6,9,12,15]])\n",
        "print(z[1,0])\n",
        "z[0,0]=12\n",
        "print(z)"
      ],
      "execution_count": null,
      "outputs": [
        {
          "output_type": "stream",
          "text": [
            "3\n",
            "[[12  4  6  8 10]\n",
            " [ 3  6  9 12 15]]\n"
          ],
          "name": "stdout"
        }
      ]
    },
    {
      "cell_type": "code",
      "metadata": {
        "colab": {
          "base_uri": "https://localhost:8080/"
        },
        "id": "Azg_S7wiB2W_",
        "outputId": "95f07970-5238-4c7b-e8d0-fcec538fb41b"
      },
      "source": [
        "x=np.arange(10)\n",
        "x[4:8],x[:5],x[5:]"
      ],
      "execution_count": null,
      "outputs": [
        {
          "output_type": "execute_result",
          "data": {
            "text/plain": [
              "(array([4, 5, 6, 7]), array([0, 1, 2, 3, 4]), array([5, 6, 7, 8, 9]))"
            ]
          },
          "metadata": {
            "tags": []
          },
          "execution_count": 23
        }
      ]
    },
    {
      "cell_type": "code",
      "metadata": {
        "colab": {
          "base_uri": "https://localhost:8080/"
        },
        "id": "9gq6SJS_DOwi",
        "outputId": "6074bf20-92fe-478a-b186-898f9aface9a"
      },
      "source": [
        "z=np.array([[2,4,6,8],[3,6,9,12],[4,8,12,16]])\n",
        "#0,1행 0,1,2열\n",
        "print(z[:2,:3])\n",
        "#0,1,2행 , 0,2열\n",
        "print( z[:3,::2])"
      ],
      "execution_count": null,
      "outputs": [
        {
          "output_type": "stream",
          "text": [
            "[[2 4 6]\n",
            " [3 6 9]]\n",
            "[[ 2  6]\n",
            " [ 3  9]\n",
            " [ 4 12]]\n"
          ],
          "name": "stdout"
        }
      ]
    },
    {
      "cell_type": "code",
      "metadata": {
        "colab": {
          "base_uri": "https://localhost:8080/"
        },
        "id": "-YieMpQ8ETbM",
        "outputId": "28acb4fa-6b86-454b-ab66-455401555dd3"
      },
      "source": [
        "z=np.arange(1,10).reshape(3,3)\n",
        "z"
      ],
      "execution_count": null,
      "outputs": [
        {
          "output_type": "execute_result",
          "data": {
            "text/plain": [
              "array([[1, 2, 3],\n",
              "       [4, 5, 6],\n",
              "       [7, 8, 9]])"
            ]
          },
          "metadata": {
            "tags": []
          },
          "execution_count": 27
        }
      ]
    },
    {
      "cell_type": "code",
      "metadata": {
        "colab": {
          "base_uri": "https://localhost:8080/"
        },
        "id": "g9Grs5rLEgcy",
        "outputId": "316cae84-77f3-44f1-a831-aeb403664af6"
      },
      "source": [
        "x=np.array([1,2,3])\n",
        "y=np.array([3,2,1])\n",
        "z=np.concatenate([x,y])\n",
        "z"
      ],
      "execution_count": null,
      "outputs": [
        {
          "output_type": "execute_result",
          "data": {
            "text/plain": [
              "array([1, 2, 3, 3, 2, 1])"
            ]
          },
          "metadata": {
            "tags": []
          },
          "execution_count": 28
        }
      ]
    },
    {
      "cell_type": "code",
      "metadata": {
        "colab": {
          "base_uri": "https://localhost:8080/"
        },
        "id": "LSvISAeAGIKe",
        "outputId": "be54e62c-dc33-4a7f-bed8-bcfd13284690"
      },
      "source": [
        "x=np.array([1,2,3])\n",
        "grid=np.array([[4,5,6],[7,8,9]])\n",
        "v=np.vstack([x,grid])\n",
        "v"
      ],
      "execution_count": null,
      "outputs": [
        {
          "output_type": "execute_result",
          "data": {
            "text/plain": [
              "array([[1, 2, 3],\n",
              "       [4, 5, 6],\n",
              "       [7, 8, 9]])"
            ]
          },
          "metadata": {
            "tags": []
          },
          "execution_count": 29
        }
      ]
    },
    {
      "cell_type": "code",
      "metadata": {
        "colab": {
          "base_uri": "https://localhost:8080/"
        },
        "id": "hMpbhrIHGdoL",
        "outputId": "2fc5c49a-4e8e-4984-a2c2-05b4448d1b95"
      },
      "source": [
        "y=np.array([[99],[99]])\n",
        "z=np.hstack([grid,y])\n",
        "z"
      ],
      "execution_count": null,
      "outputs": [
        {
          "output_type": "execute_result",
          "data": {
            "text/plain": [
              "array([[ 4,  5,  6, 99],\n",
              "       [ 7,  8,  9, 99]])"
            ]
          },
          "metadata": {
            "tags": []
          },
          "execution_count": 30
        }
      ]
    },
    {
      "cell_type": "markdown",
      "metadata": {
        "id": "n5Xb1PZzYC0A"
      },
      "source": [
        "# **02 Numpy 심화**\n",
        "## 단항 유니버설 함수\n",
        "\n",
        "*   abs() -> 복소수 가능\n",
        "*   sin() cos() tan()\n",
        "*   arcsin arccos arctan :역삼각함수\n",
        "*   exp , exp2 ,power(3,x) : 지수함수\n",
        "*   log log2 log10 : 로그함수\n",
        "*   np. multiply(x,10,out=y) -> 직접 연산 결과 표시 가능 y[::2] 가능 --> 대규모 연산 시간, 메모리 절약\n",
        "\n",
        "> ## 집계함수\n",
        ">>### np.add.reduce(x)   ---> 결과가 하나만 남을 때까지 add를 반복적으로 적용\n",
        ">>### sum,max,min --->axis=0 열별 axis=1 행별\n",
        "\n",
        ">## 브로드캐스팅 연산\n",
        ">>### 서로 다른 크기의 배열에 이항 유니버설 함수를 적용\n",
        ">>### 브로드캐스팅에 의해 1차원으로 확장\n",
        "\n",
        "###비교 연산자와 유니버설 함수\n",
        "### == np.equal\n",
        "\n",
        ">sort 함수\n",
        ">> np.sort() , x.sort()\n",
        ">> np. argsort() 정렬된 요소의 인덱스 반환\n",
        ">> x_reverse = np.sort(x)[::-1] ---> 내림차순 정렬\n",
        ">>> axis=0 열기준 작은 것부터 정렬 axis=1 행기준 작은 것부터 원소 정렬\n",
        "\n",
        "\n",
        "\n",
        "\n",
        "\n",
        "\n",
        "\n",
        "\n",
        "\n",
        "\n"
      ]
    }
  ]
}