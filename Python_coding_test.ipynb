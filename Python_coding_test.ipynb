{
  "nbformat": 4,
  "nbformat_minor": 0,
  "metadata": {
    "colab": {
      "name": "Python coding test",
      "provenance": [],
      "authorship_tag": "ABX9TyMYgFx3dJj5UKooDaOXxM1U",
      "include_colab_link": true
    },
    "kernelspec": {
      "name": "python3",
      "display_name": "Python 3"
    }
  },
  "cells": [
    {
      "cell_type": "markdown",
      "metadata": {
        "id": "view-in-github",
        "colab_type": "text"
      },
      "source": [
        "<a href=\"https://colab.research.google.com/github/eunsu12/DALC_Scalar/blob/main/Python_coding_test.ipynb\" target=\"_parent\"><img src=\"https://colab.research.google.com/assets/colab-badge.svg\" alt=\"Open In Colab\"/></a>"
      ]
    },
    {
      "cell_type": "markdown",
      "metadata": {
        "id": "yODTP1Q8xdxM"
      },
      "source": [
        "#2장 문제 "
      ]
    },
    {
      "cell_type": "code",
      "metadata": {
        "colab": {
          "base_uri": "https://localhost:8080/"
        },
        "id": "2iZ7Zob4JV-r",
        "outputId": "2795b89e-a4e1-45e6-db1e-33707db328ad"
      },
      "source": [
        "#같은 변수 이름 sum이라 지칭했더니 \r\n",
        "#오류 'int' object is not callable\r\n",
        "#변수명이 예약어와 같기 때문에 오류\r\n",
        "sum1=0\r\n",
        "for i in range(1, 10+1):\r\n",
        "  sum1 +=i\r\n",
        "sum1"
      ],
      "execution_count": null,
      "outputs": [
        {
          "output_type": "execute_result",
          "data": {
            "text/plain": [
              "55"
            ]
          },
          "metadata": {
            "tags": []
          },
          "execution_count": 1
        }
      ]
    },
    {
      "cell_type": "code",
      "metadata": {
        "colab": {
          "base_uri": "https://localhost:8080/"
        },
        "id": "0kYnIyRswSlz",
        "outputId": "48178ffa-a560-4077-97d1-d5d88d252f29"
      },
      "source": [
        "sum2= sum(i for i in range(1,10+1))\r\n",
        "sum2 "
      ],
      "execution_count": null,
      "outputs": [
        {
          "output_type": "execute_result",
          "data": {
            "text/plain": [
              "55"
            ]
          },
          "metadata": {
            "tags": []
          },
          "execution_count": 2
        }
      ]
    },
    {
      "cell_type": "code",
      "metadata": {
        "colab": {
          "base_uri": "https://localhost:8080/"
        },
        "id": "h4dzZJgzwTJS",
        "outputId": "ce184f4a-70a6-4006-f042-b2e6f55c5557"
      },
      "source": [
        "sum3= sum(range(1,10+1))\r\n",
        "sum3"
      ],
      "execution_count": null,
      "outputs": [
        {
          "output_type": "execute_result",
          "data": {
            "text/plain": [
              "55"
            ]
          },
          "metadata": {
            "tags": []
          },
          "execution_count": 3
        }
      ]
    },
    {
      "cell_type": "code",
      "metadata": {
        "colab": {
          "base_uri": "https://localhost:8080/"
        },
        "id": "GvqoXbSny-3M",
        "outputId": "055119bb-9af2-4e75-8e90-661e0e84b019"
      },
      "source": [
        "def are_equal(a,b):\r\n",
        "  return a==b\r\n",
        "are_equal(10,10.0)"
      ],
      "execution_count": null,
      "outputs": [
        {
          "output_type": "execute_result",
          "data": {
            "text/plain": [
              "True"
            ]
          },
          "metadata": {
            "tags": []
          },
          "execution_count": 4
        }
      ]
    },
    {
      "cell_type": "code",
      "metadata": {
        "colab": {
          "base_uri": "https://localhost:8080/"
        },
        "id": "qgUDF8S70Xwb",
        "outputId": "ff2b3c24-3b06-43ef-caee-6bd470fe1307"
      },
      "source": [
        "from typing import TypeVar\r\n",
        "T= TypeVar('T')\r\n",
        "U= TypeVar('U')\r\n",
        "\r\n",
        "def are_equal(a:T,b:U)-> bool:\r\n",
        "  return a==b\r\n",
        "are_equal(10,10.0)"
      ],
      "execution_count": null,
      "outputs": [
        {
          "output_type": "execute_result",
          "data": {
            "text/plain": [
              "True"
            ]
          },
          "metadata": {
            "tags": []
          },
          "execution_count": 5
        }
      ]
    },
    {
      "cell_type": "code",
      "metadata": {
        "colab": {
          "base_uri": "https://localhost:8080/"
        },
        "id": "49Um9HJv1BQk",
        "outputId": "fdfb96b3-2c9c-460e-856d-383f74137b0c"
      },
      "source": [
        "foo= ['A','B','C']\r\n",
        "for f in foo:\r\n",
        "  print(f)"
      ],
      "execution_count": null,
      "outputs": [
        {
          "output_type": "stream",
          "text": [
            "A\n",
            "B\n",
            "C\n"
          ],
          "name": "stdout"
        }
      ]
    },
    {
      "cell_type": "markdown",
      "metadata": {
        "id": "70FK-cQa5j8D"
      },
      "source": [
        "###구조체"
      ]
    },
    {
      "cell_type": "code",
      "metadata": {
        "id": "L4uhgkw-2wWF"
      },
      "source": [
        "from collections import namedtuple\r\n",
        "MyStruct = namedtuple(\"MyStruct\",\"field1 field2 field3\")\r\n",
        "m= MyStruct(\"foo\",\"bar\",\"baz\")"
      ],
      "execution_count": null,
      "outputs": []
    },
    {
      "cell_type": "code",
      "metadata": {
        "id": "CDMD-pj43oVR"
      },
      "source": [
        "from dataclasses import dataclass\r\n",
        "#초기화 함수 지원, 출력할때도 읽기 쉬운 포맷\r\n",
        "@dataclass\r\n",
        "class Product:\r\n",
        "  weight:int=None\r\n",
        "  price:float=None\r\n",
        "apple=Product()\r\n",
        "apple.price=10"
      ],
      "execution_count": null,
      "outputs": []
    },
    {
      "cell_type": "markdown",
      "metadata": {
        "id": "Mk4BVSQJ5u8l"
      },
      "source": [
        "###클래스"
      ]
    },
    {
      "cell_type": "code",
      "metadata": {
        "colab": {
          "base_uri": "https://localhost:8080/"
        },
        "id": "19SjtGmY5MCT",
        "outputId": "3cac49df-572c-4ef5-90e6-dc0d5076e038"
      },
      "source": [
        "from dataclasses import dataclass\r\n",
        "\r\n",
        "@dataclass\r\n",
        "class Rectangle:\r\n",
        "  width:int\r\n",
        "  height:int\r\n",
        "  def area(self):\r\n",
        "    return self.width * self.height\r\n",
        "\r\n",
        "rect=Rectangle(3,4)\r\n",
        "print(rect.area())"
      ],
      "execution_count": null,
      "outputs": [
        {
          "output_type": "stream",
          "text": [
            "12\n"
          ],
          "name": "stdout"
        }
      ]
    },
    {
      "cell_type": "markdown",
      "metadata": {
        "id": "tkz47wC5PyvM"
      },
      "source": [
        "#3장 문제"
      ]
    },
    {
      "cell_type": "code",
      "metadata": {
        "id": "_3kuYxVj7OyD",
        "colab": {
          "base_uri": "https://localhost:8080/"
        },
        "outputId": "10a29a90-9712-4818-dc47-260493289a2a"
      },
      "source": [
        "#동적으로 할당될 수 있어\r\n",
        "#지양해야 한다\r\n",
        "a:str=1\r\n",
        "type(a)"
      ],
      "execution_count": 1,
      "outputs": [
        {
          "output_type": "execute_result",
          "data": {
            "text/plain": [
              "int"
            ]
          },
          "metadata": {
            "tags": []
          },
          "execution_count": 1
        }
      ]
    },
    {
      "cell_type": "code",
      "metadata": {
        "colab": {
          "base_uri": "https://localhost:8080/"
        },
        "id": "r0tsQI9nTO-v",
        "outputId": "a145421b-4d81-4656-e1c8-3dc19f0855cf"
      },
      "source": [
        "list(map(lambda x:x+10,[1,2,3]))"
      ],
      "execution_count": 7,
      "outputs": [
        {
          "output_type": "execute_result",
          "data": {
            "text/plain": [
              "[11, 12, 13]"
            ]
          },
          "metadata": {
            "tags": []
          },
          "execution_count": 7
        }
      ]
    },
    {
      "cell_type": "code",
      "metadata": {
        "colab": {
          "base_uri": "https://localhost:8080/"
        },
        "id": "ykk9CGUaTQpb",
        "outputId": "e434f286-dade-4550-f970-933a14ef8f3a"
      },
      "source": [
        "#리스트 컴프리헨션\r\n",
        "#n 1부터 10까지 중 2로 나눈 나머지가 1(홀수)->1,3,5,7,9\r\n",
        "#에 2를 곱한것을 보여주라->2,6,10,14,18\r\n",
        "[n*2 for n in range(1,10+1)if n%2==1]"
      ],
      "execution_count": 8,
      "outputs": [
        {
          "output_type": "execute_result",
          "data": {
            "text/plain": [
              "[2, 6, 10, 14, 18]"
            ]
          },
          "metadata": {
            "tags": []
          },
          "execution_count": 8
        }
      ]
    },
    {
      "cell_type": "code",
      "metadata": {
        "colab": {
          "base_uri": "https://localhost:8080/"
        },
        "id": "zFVZ1Ks9V68m",
        "outputId": "ec726aec-eef6-4817-8d21-97fb27859443"
      },
      "source": [
        "#리스트 컴프리헨션 사용하지 않는다면\r\n",
        "a=[]\r\n",
        "for n in range(1,10+1):\r\n",
        "  if n%2==1:\r\n",
        "    a.append(n*2)\r\n",
        "a"
      ],
      "execution_count": 9,
      "outputs": [
        {
          "output_type": "execute_result",
          "data": {
            "text/plain": [
              "[2, 6, 10, 14, 18]"
            ]
          },
          "metadata": {
            "tags": []
          },
          "execution_count": 9
        }
      ]
    },
    {
      "cell_type": "code",
      "metadata": {
        "colab": {
          "base_uri": "https://localhost:8080/"
        },
        "id": "XAbpvKyLWt4f",
        "outputId": "903fa1f7-d409-405e-9aea-76361f283934"
      },
      "source": [
        "def get_natural_number():\r\n",
        "  n=0\r\n",
        "  while True:\r\n",
        "    n+=1\r\n",
        "    yield n\r\n",
        "#리턴 값 제너레이터\r\n",
        "get_natural_number()"
      ],
      "execution_count": 12,
      "outputs": [
        {
          "output_type": "execute_result",
          "data": {
            "text/plain": [
              "<generator object get_natural_number at 0x7fa58a304cd0>"
            ]
          },
          "metadata": {
            "tags": []
          },
          "execution_count": 12
        }
      ]
    },
    {
      "cell_type": "code",
      "metadata": {
        "colab": {
          "base_uri": "https://localhost:8080/"
        },
        "id": "fkgQin_3X9Ez",
        "outputId": "a5f271d5-d867-4648-862a-13d52f5bb32d"
      },
      "source": [
        "g= get_natural_number()\r\n",
        "for _ in range(0,5):\r\n",
        "  print(next(g))"
      ],
      "execution_count": 15,
      "outputs": [
        {
          "output_type": "stream",
          "text": [
            "1\n",
            "2\n",
            "3\n",
            "4\n",
            "5\n"
          ],
          "name": "stdout"
        }
      ]
    },
    {
      "cell_type": "code",
      "metadata": {
        "colab": {
          "base_uri": "https://localhost:8080/"
        },
        "id": "NQpbm4wKZDfR",
        "outputId": "3150ffdc-bc22-45bc-c9d8-95722981a94b"
      },
      "source": [
        "def generator():\r\n",
        "  yield 1\r\n",
        "  yield 'string'\r\n",
        "  yield True\r\n",
        "g= generator()\r\n",
        "g"
      ],
      "execution_count": 17,
      "outputs": [
        {
          "output_type": "execute_result",
          "data": {
            "text/plain": [
              "<generator object generator at 0x7fa58a2efc50>"
            ]
          },
          "metadata": {
            "tags": []
          },
          "execution_count": 17
        }
      ]
    },
    {
      "cell_type": "code",
      "metadata": {
        "colab": {
          "base_uri": "https://localhost:8080/"
        },
        "id": "BgMccLf3ZSnw",
        "outputId": "4d3167cd-13bd-4bff-e291-8bb678789d42"
      },
      "source": [
        "next(g)"
      ],
      "execution_count": 18,
      "outputs": [
        {
          "output_type": "execute_result",
          "data": {
            "text/plain": [
              "1"
            ]
          },
          "metadata": {
            "tags": []
          },
          "execution_count": 18
        }
      ]
    },
    {
      "cell_type": "code",
      "metadata": {
        "colab": {
          "base_uri": "https://localhost:8080/",
          "height": 34
        },
        "id": "4f7iF0hUZqZ4",
        "outputId": "aec5709a-7cf0-4979-a1dc-8248638db695"
      },
      "source": [
        "next(g)"
      ],
      "execution_count": 19,
      "outputs": [
        {
          "output_type": "execute_result",
          "data": {
            "application/vnd.google.colaboratory.intrinsic+json": {
              "type": "string"
            },
            "text/plain": [
              "'string'"
            ]
          },
          "metadata": {
            "tags": []
          },
          "execution_count": 19
        }
      ]
    },
    {
      "cell_type": "code",
      "metadata": {
        "colab": {
          "base_uri": "https://localhost:8080/"
        },
        "id": "bfWU3IgNZqoj",
        "outputId": "736ddeda-e9b5-4c76-ce3c-09fd82d4c76d"
      },
      "source": [
        "next(g)"
      ],
      "execution_count": 20,
      "outputs": [
        {
          "output_type": "execute_result",
          "data": {
            "text/plain": [
              "True"
            ]
          },
          "metadata": {
            "tags": []
          },
          "execution_count": 20
        }
      ]
    },
    {
      "cell_type": "code",
      "metadata": {
        "colab": {
          "base_uri": "https://localhost:8080/"
        },
        "id": "g4vEUIoKZwqb",
        "outputId": "20307620-8314-450e-ebcf-1cb7aca99c14"
      },
      "source": [
        "list(range(5))"
      ],
      "execution_count": 21,
      "outputs": [
        {
          "output_type": "execute_result",
          "data": {
            "text/plain": [
              "[0, 1, 2, 3, 4]"
            ]
          },
          "metadata": {
            "tags": []
          },
          "execution_count": 21
        }
      ]
    },
    {
      "cell_type": "code",
      "metadata": {
        "colab": {
          "base_uri": "https://localhost:8080/"
        },
        "id": "Wd2AsKk7Zw3P",
        "outputId": "643860b6-2477-42e8-be8d-81241b0df531"
      },
      "source": [
        "range(5)"
      ],
      "execution_count": 22,
      "outputs": [
        {
          "output_type": "execute_result",
          "data": {
            "text/plain": [
              "range(0, 5)"
            ]
          },
          "metadata": {
            "tags": []
          },
          "execution_count": 22
        }
      ]
    },
    {
      "cell_type": "code",
      "metadata": {
        "colab": {
          "base_uri": "https://localhost:8080/"
        },
        "id": "V5J9wZSoZ6zF",
        "outputId": "05256985-ef96-4886-fbc2-a853f71256e8"
      },
      "source": [
        "type(range(5))"
      ],
      "execution_count": 23,
      "outputs": [
        {
          "output_type": "execute_result",
          "data": {
            "text/plain": [
              "range"
            ]
          },
          "metadata": {
            "tags": []
          },
          "execution_count": 23
        }
      ]
    },
    {
      "cell_type": "code",
      "metadata": {
        "colab": {
          "base_uri": "https://localhost:8080/"
        },
        "id": "GMpiOBz_aCZj",
        "outputId": "6af95542-e1e5-4bd9-d8be-9c93f4892b13"
      },
      "source": [
        "#end=' ' 공백\r\n",
        "for i in range(5):\r\n",
        "  print(i,end=' ')"
      ],
      "execution_count": 25,
      "outputs": [
        {
          "output_type": "stream",
          "text": [
            "0 1 2 3 4 "
          ],
          "name": "stdout"
        }
      ]
    },
    {
      "cell_type": "code",
      "metadata": {
        "id": "LduhL-RcaTpg"
      },
      "source": [
        "a=[n for n in range(1000000)]\r\n",
        "b=range(1000000)"
      ],
      "execution_count": 26,
      "outputs": []
    },
    {
      "cell_type": "code",
      "metadata": {
        "colab": {
          "base_uri": "https://localhost:8080/"
        },
        "id": "5zvRvcMGdy5A",
        "outputId": "76c2aa30-f9a8-41b5-f2a5-514b938b9a6d"
      },
      "source": [
        "len(a), len(b)"
      ],
      "execution_count": 27,
      "outputs": [
        {
          "output_type": "execute_result",
          "data": {
            "text/plain": [
              "(1000000, 1000000)"
            ]
          },
          "metadata": {
            "tags": []
          },
          "execution_count": 27
        }
      ]
    },
    {
      "cell_type": "code",
      "metadata": {
        "colab": {
          "base_uri": "https://localhost:8080/"
        },
        "id": "Pk5Sin3-dzZ1",
        "outputId": "b0c49e78-a7fa-48d0-c4c7-9a74599ebd21"
      },
      "source": [
        "len(a)==len(b)"
      ],
      "execution_count": 28,
      "outputs": [
        {
          "output_type": "execute_result",
          "data": {
            "text/plain": [
              "True"
            ]
          },
          "metadata": {
            "tags": []
          },
          "execution_count": 28
        }
      ]
    },
    {
      "cell_type": "code",
      "metadata": {
        "colab": {
          "base_uri": "https://localhost:8080/"
        },
        "id": "akiDfeWOd_fa",
        "outputId": "bdbf9fbb-0a97-4602-8eae-f5bfee7b0e27"
      },
      "source": [
        "b"
      ],
      "execution_count": 29,
      "outputs": [
        {
          "output_type": "execute_result",
          "data": {
            "text/plain": [
              "range(0, 1000000)"
            ]
          },
          "metadata": {
            "tags": []
          },
          "execution_count": 29
        }
      ]
    },
    {
      "cell_type": "code",
      "metadata": {
        "colab": {
          "base_uri": "https://localhost:8080/"
        },
        "id": "bqwdMGEweH_C",
        "outputId": "e01a158b-ce2f-4541-fbbf-c7635d691d86"
      },
      "source": [
        "type(b)"
      ],
      "execution_count": 30,
      "outputs": [
        {
          "output_type": "execute_result",
          "data": {
            "text/plain": [
              "range"
            ]
          },
          "metadata": {
            "tags": []
          },
          "execution_count": 30
        }
      ]
    },
    {
      "cell_type": "code",
      "metadata": {
        "colab": {
          "base_uri": "https://localhost:8080/"
        },
        "id": "TXWsJQAOeVwJ",
        "outputId": "a5c93b81-9758-4bae-a0c6-0726c07757f8"
      },
      "source": [
        "#sys. 바로 쓰면 오류\r\n",
        "#메모리 점유율\r\n",
        "import sys\r\n",
        "sys.getsizeof(a),sys.getsizeof(b)"
      ],
      "execution_count": 32,
      "outputs": [
        {
          "output_type": "execute_result",
          "data": {
            "text/plain": [
              "(8697472, 48)"
            ]
          },
          "metadata": {
            "tags": []
          },
          "execution_count": 32
        }
      ]
    },
    {
      "cell_type": "code",
      "metadata": {
        "colab": {
          "base_uri": "https://localhost:8080/"
        },
        "id": "g1xU-eJke4io",
        "outputId": "35f65b79-4987-479f-c791-5623742d5f97"
      },
      "source": [
        "b[999]"
      ],
      "execution_count": 33,
      "outputs": [
        {
          "output_type": "execute_result",
          "data": {
            "text/plain": [
              "999"
            ]
          },
          "metadata": {
            "tags": []
          },
          "execution_count": 33
        }
      ]
    },
    {
      "cell_type": "code",
      "metadata": {
        "colab": {
          "base_uri": "https://localhost:8080/"
        },
        "id": "zIED3SDNf2xo",
        "outputId": "d51a1e3f-5c83-4cb6-df48-3d772343447c"
      },
      "source": [
        "a=[1,2,3,2,45,2,5]\r\n",
        "a"
      ],
      "execution_count": 34,
      "outputs": [
        {
          "output_type": "execute_result",
          "data": {
            "text/plain": [
              "[1, 2, 3, 2, 45, 2, 5]"
            ]
          },
          "metadata": {
            "tags": []
          },
          "execution_count": 34
        }
      ]
    },
    {
      "cell_type": "code",
      "metadata": {
        "colab": {
          "base_uri": "https://localhost:8080/"
        },
        "id": "nRguZ1sbf3CR",
        "outputId": "b796c499-5c5c-42a1-b590-9b7d8f159356"
      },
      "source": [
        "enumerate(a)"
      ],
      "execution_count": 35,
      "outputs": [
        {
          "output_type": "execute_result",
          "data": {
            "text/plain": [
              "<enumerate at 0x7fa58835ae10>"
            ]
          },
          "metadata": {
            "tags": []
          },
          "execution_count": 35
        }
      ]
    },
    {
      "cell_type": "code",
      "metadata": {
        "colab": {
          "base_uri": "https://localhost:8080/"
        },
        "id": "rdmvSOPmgcUd",
        "outputId": "4c0c3e5e-6946-4ba2-df9e-353fc6e56e5a"
      },
      "source": [
        "#인덱스를 자동으로 부여\r\n",
        "list(enumerate(a))"
      ],
      "execution_count": 36,
      "outputs": [
        {
          "output_type": "execute_result",
          "data": {
            "text/plain": [
              "[(0, 1), (1, 2), (2, 3), (3, 2), (4, 45), (5, 2), (6, 5)]"
            ]
          },
          "metadata": {
            "tags": []
          },
          "execution_count": 36
        }
      ]
    },
    {
      "cell_type": "code",
      "metadata": {
        "colab": {
          "base_uri": "https://localhost:8080/"
        },
        "id": "YQWa-C7Kgkm_",
        "outputId": "188d3a71-d227-4306-f902-a246e2716bb7"
      },
      "source": [
        "for i in range(len(a)):\r\n",
        "  print(i,a[i])"
      ],
      "execution_count": 37,
      "outputs": [
        {
          "output_type": "stream",
          "text": [
            "0 1\n",
            "1 2\n",
            "2 3\n",
            "3 2\n",
            "4 45\n",
            "5 2\n",
            "6 5\n"
          ],
          "name": "stdout"
        }
      ]
    },
    {
      "cell_type": "code",
      "metadata": {
        "colab": {
          "base_uri": "https://localhost:8080/"
        },
        "id": "EWBozvUagkpG",
        "outputId": "e462fb3e-7b07-4181-a1c6-f56d5383db48"
      },
      "source": [
        "#인덱스를 위한 변수를 별도로 관리\r\n",
        "i=0\r\n",
        "for v in a:\r\n",
        "  print(i,v)\r\n",
        "  i+=1"
      ],
      "execution_count": 38,
      "outputs": [
        {
          "output_type": "stream",
          "text": [
            "0 1\n",
            "1 2\n",
            "2 3\n",
            "3 2\n",
            "4 45\n",
            "5 2\n",
            "6 5\n"
          ],
          "name": "stdout"
        }
      ]
    },
    {
      "cell_type": "code",
      "metadata": {
        "colab": {
          "base_uri": "https://localhost:8080/"
        },
        "id": "rlErO6FOhN_a",
        "outputId": "daca7db5-357c-4886-9ae3-8723d3d50057"
      },
      "source": [
        "#가장 깔끔한 방식\r\n",
        "for i,v in enumerate(a):\r\n",
        "  print(i,v)"
      ],
      "execution_count": 39,
      "outputs": [
        {
          "output_type": "stream",
          "text": [
            "0 1\n",
            "1 2\n",
            "2 3\n",
            "3 2\n",
            "4 45\n",
            "5 2\n",
            "6 5\n"
          ],
          "name": "stdout"
        }
      ]
    },
    {
      "cell_type": "code",
      "metadata": {
        "colab": {
          "base_uri": "https://localhost:8080/"
        },
        "id": "yfQnmPqFhfi5",
        "outputId": "5b40f5e7-4f90-4717-c527-2b8e4f6b71d9"
      },
      "source": [
        "5/3"
      ],
      "execution_count": 40,
      "outputs": [
        {
          "output_type": "execute_result",
          "data": {
            "text/plain": [
              "1.6666666666666667"
            ]
          },
          "metadata": {
            "tags": []
          },
          "execution_count": 40
        }
      ]
    },
    {
      "cell_type": "code",
      "metadata": {
        "colab": {
          "base_uri": "https://localhost:8080/"
        },
        "id": "OHIxoU_Hhso5",
        "outputId": "96986160-e76d-4b5e-c790-62f1f6207b9a"
      },
      "source": [
        "type(5/3)"
      ],
      "execution_count": 41,
      "outputs": [
        {
          "output_type": "execute_result",
          "data": {
            "text/plain": [
              "float"
            ]
          },
          "metadata": {
            "tags": []
          },
          "execution_count": 41
        }
      ]
    },
    {
      "cell_type": "code",
      "metadata": {
        "colab": {
          "base_uri": "https://localhost:8080/"
        },
        "id": "OWrBfwPfhtae",
        "outputId": "cbab26dd-2550-4781-9e25-6c0664314dfd"
      },
      "source": [
        "#// 나눗셈 연산자는 int(a/b)와 동일\r\n",
        "5//3,int(5/3)"
      ],
      "execution_count": 44,
      "outputs": [
        {
          "output_type": "execute_result",
          "data": {
            "text/plain": [
              "(1, 1)"
            ]
          },
          "metadata": {
            "tags": []
          },
          "execution_count": 44
        }
      ]
    },
    {
      "cell_type": "code",
      "metadata": {
        "colab": {
          "base_uri": "https://localhost:8080/"
        },
        "id": "cywkGQfniNUq",
        "outputId": "2f087396-b2fa-455f-cb3a-ec3f28e44d1a"
      },
      "source": [
        "type(5//3),type(int(5/3))"
      ],
      "execution_count": 45,
      "outputs": [
        {
          "output_type": "execute_result",
          "data": {
            "text/plain": [
              "(int, int)"
            ]
          },
          "metadata": {
            "tags": []
          },
          "execution_count": 45
        }
      ]
    },
    {
      "cell_type": "code",
      "metadata": {
        "colab": {
          "base_uri": "https://localhost:8080/"
        },
        "id": "7QbBCecIiT8t",
        "outputId": "87744497-0c12-42b7-e91d-7c937e33a7b8"
      },
      "source": [
        "#나머지\r\n",
        "5%3"
      ],
      "execution_count": 46,
      "outputs": [
        {
          "output_type": "execute_result",
          "data": {
            "text/plain": [
              "2"
            ]
          },
          "metadata": {
            "tags": []
          },
          "execution_count": 46
        }
      ]
    },
    {
      "cell_type": "code",
      "metadata": {
        "colab": {
          "base_uri": "https://localhost:8080/"
        },
        "id": "YVJZI2X0i50g",
        "outputId": "d6cb3907-02ef-4009-a424-6b62f8710310"
      },
      "source": [
        "#몫과 나머지를 한 번에 구할 때\r\n",
        "divmod(5,3)"
      ],
      "execution_count": 47,
      "outputs": [
        {
          "output_type": "execute_result",
          "data": {
            "text/plain": [
              "(1, 2)"
            ]
          },
          "metadata": {
            "tags": []
          },
          "execution_count": 47
        }
      ]
    },
    {
      "cell_type": "code",
      "metadata": {
        "colab": {
          "base_uri": "https://localhost:8080/"
        },
        "id": "2YQ0N7Qti57b",
        "outputId": "665724b5-6f10-4cb8-9e35-a861f19892a7"
      },
      "source": [
        "#한 칸 공백이 디폴트\r\n",
        "print('A1','B1')"
      ],
      "execution_count": 48,
      "outputs": [
        {
          "output_type": "stream",
          "text": [
            "A1 B1\n"
          ],
          "name": "stdout"
        }
      ]
    },
    {
      "cell_type": "code",
      "metadata": {
        "colab": {
          "base_uri": "https://localhost:8080/"
        },
        "id": "e85U8s0Fi6B3",
        "outputId": "5eefb030-15a3-469d-af2e-454cd75763b7"
      },
      "source": [
        "print('A1','B1',sep=',')"
      ],
      "execution_count": 49,
      "outputs": [
        {
          "output_type": "stream",
          "text": [
            "A1,B1\n"
          ],
          "name": "stdout"
        }
      ]
    },
    {
      "cell_type": "code",
      "metadata": {
        "colab": {
          "base_uri": "https://localhost:8080/"
        },
        "id": "CuV9I_6Uj1Lz",
        "outputId": "8e62f3d5-45fb-4056-ed41-161a111297d0"
      },
      "source": [
        "#줄바꿈 하지 않도록\r\n",
        "print('aa',end=' ')\r\n",
        "print('bb')"
      ],
      "execution_count": 50,
      "outputs": [
        {
          "output_type": "stream",
          "text": [
            "aa bb\n"
          ],
          "name": "stdout"
        }
      ]
    },
    {
      "cell_type": "code",
      "metadata": {
        "colab": {
          "base_uri": "https://localhost:8080/"
        },
        "id": "O-T9ZD9Sj1XF",
        "outputId": "0e183a8b-d878-4010-e47c-603faa196d0e"
      },
      "source": [
        "a=['A','B']\r\n",
        "print(' '.join(a))"
      ],
      "execution_count": 51,
      "outputs": [
        {
          "output_type": "stream",
          "text": [
            "A B\n"
          ],
          "name": "stdout"
        }
      ]
    },
    {
      "cell_type": "code",
      "metadata": {
        "colab": {
          "base_uri": "https://localhost:8080/"
        },
        "id": "oau-lJPXkknF",
        "outputId": "cac6173b-8bcf-44c6-931d-9362f45a5099"
      },
      "source": [
        "idx=1\r\n",
        "fruit='Apple'\r\n",
        "print('{0}:{1}'.format(idx+1,fruit))"
      ],
      "execution_count": 52,
      "outputs": [
        {
          "output_type": "stream",
          "text": [
            "2:Apple\n"
          ],
          "name": "stdout"
        }
      ]
    },
    {
      "cell_type": "code",
      "metadata": {
        "colab": {
          "base_uri": "https://localhost:8080/"
        },
        "id": "pAxAHC_Skkzy",
        "outputId": "31e35bbf-4680-4146-acab-b33356cc87dd"
      },
      "source": [
        "#인덱스 생략 가능\r\n",
        "print('{}:{}'.format(idx+1,fruit))"
      ],
      "execution_count": 53,
      "outputs": [
        {
          "output_type": "stream",
          "text": [
            "2:Apple\n"
          ],
          "name": "stdout"
        }
      ]
    },
    {
      "cell_type": "code",
      "metadata": {
        "colab": {
          "base_uri": "https://localhost:8080/"
        },
        "id": "tTuWXYshlCNI",
        "outputId": "7a04f08c-75d3-45d9-9736-c6c84d018e40"
      },
      "source": [
        "print(f'{idx+1}:{fruit}')"
      ],
      "execution_count": 54,
      "outputs": [
        {
          "output_type": "stream",
          "text": [
            "2:Apple\n"
          ],
          "name": "stdout"
        }
      ]
    },
    {
      "cell_type": "code",
      "metadata": {
        "id": "x9rGrHSFlfeR"
      },
      "source": [
        "#불필요한 오류 방지\r\n",
        "class MyClass(object):\r\n",
        "  def method_a(self):\r\n",
        "    pass\r\n",
        "  def method_b(self):\r\n",
        "    print('Method B')\r\n",
        "c=MyClass()"
      ],
      "execution_count": 57,
      "outputs": []
    },
    {
      "cell_type": "code",
      "metadata": {
        "id": "bTBkAEhQl-JB"
      },
      "source": [
        "#모든 로컬 변수 출력\r\n",
        "import pprint\r\n",
        "pprint.pprint(locals())"
      ],
      "execution_count": null,
      "outputs": []
    },
    {
      "cell_type": "code",
      "metadata": {
        "id": "hYctQAffnKDK"
      },
      "source": [
        "#구글 파이썬 스타일 가이드\r\n",
        "#불변 객체 사용\r\n",
        "def foo(a,b=None):\r\n",
        "  if b is None:\r\n",
        "    b=[]\r\n",
        "#def foo(a,b: Optional[Sequence]=None):\r\n",
        "  #if b is None:\r\n",
        "   # b=[]"
      ],
      "execution_count": 59,
      "outputs": []
    },
    {
      "cell_type": "code",
      "metadata": {
        "colab": {
          "base_uri": "https://localhost:8080/"
        },
        "id": "D4WS_cFXq-t4",
        "outputId": "06abcd2e-d973-4dd6-d189-dd056690fb70"
      },
      "source": [
        "import this"
      ],
      "execution_count": 64,
      "outputs": [
        {
          "output_type": "stream",
          "text": [
            "The Zen of Python, by Tim Peters\n",
            "\n",
            "Beautiful is better than ugly.\n",
            "Explicit is better than implicit.\n",
            "Simple is better than complex.\n",
            "Complex is better than complicated.\n",
            "Flat is better than nested.\n",
            "Sparse is better than dense.\n",
            "Readability counts.\n",
            "Special cases aren't special enough to break the rules.\n",
            "Although practicality beats purity.\n",
            "Errors should never pass silently.\n",
            "Unless explicitly silenced.\n",
            "In the face of ambiguity, refuse the temptation to guess.\n",
            "There should be one-- and preferably only one --obvious way to do it.\n",
            "Although that way may not be obvious at first unless you're Dutch.\n",
            "Now is better than never.\n",
            "Although never is often better than *right* now.\n",
            "If the implementation is hard to explain, it's a bad idea.\n",
            "If the implementation is easy to explain, it may be a good idea.\n",
            "Namespaces are one honking great idea -- let's do more of those!\n"
          ],
          "name": "stdout"
        }
      ]
    },
    {
      "cell_type": "markdown",
      "metadata": {
        "id": "7nCMVPOlwY1L"
      },
      "source": [
        "#4장 문제"
      ]
    },
    {
      "cell_type": "code",
      "metadata": {
        "colab": {
          "base_uri": "https://localhost:8080/"
        },
        "id": "zK06RR11q_Cl",
        "outputId": "9c3adbbd-3a06-427d-eb4f-e3f832fe3c70"
      },
      "source": [
        "for n in range(1,15+1):\r\n",
        "  print(n,n**2,2**n)"
      ],
      "execution_count": 67,
      "outputs": [
        {
          "output_type": "stream",
          "text": [
            "1 1 2\n",
            "2 4 4\n",
            "3 9 8\n",
            "4 16 16\n",
            "5 25 32\n",
            "6 36 64\n",
            "7 49 128\n",
            "8 64 256\n",
            "9 81 512\n",
            "10 100 1024\n",
            "11 121 2048\n",
            "12 144 4096\n",
            "13 169 8192\n",
            "14 196 16384\n",
            "15 225 32768\n"
          ],
          "name": "stdout"
        }
      ]
    },
    {
      "cell_type": "code",
      "metadata": {
        "colab": {
          "base_uri": "https://localhost:8080/"
        },
        "id": "u9oItxvhwsdF",
        "outputId": "053044e3-8f50-4732-b2fc-036002336528"
      },
      "source": [
        "#object>int>bool\r\n",
        "True==1,False==0"
      ],
      "execution_count": 69,
      "outputs": [
        {
          "output_type": "execute_result",
          "data": {
            "text/plain": [
              "(True, True)"
            ]
          },
          "metadata": {
            "tags": []
          },
          "execution_count": 69
        }
      ]
    },
    {
      "cell_type": "code",
      "metadata": {
        "colab": {
          "base_uri": "https://localhost:8080/"
        },
        "id": "56Gve8bf0fp4",
        "outputId": "93e26950-4d82-4033-b908-75b9f9da97ef"
      },
      "source": [
        "#빈 집합이 아닐 때 {}\r\n",
        "a=set()\r\n",
        "a"
      ],
      "execution_count": 70,
      "outputs": [
        {
          "output_type": "execute_result",
          "data": {
            "text/plain": [
              "set()"
            ]
          },
          "metadata": {
            "tags": []
          },
          "execution_count": 70
        }
      ]
    },
    {
      "cell_type": "code",
      "metadata": {
        "colab": {
          "base_uri": "https://localhost:8080/"
        },
        "id": "ThcWw8FR0gr3",
        "outputId": "44e9e364-3eec-4c38-f064-c547d71c1cde"
      },
      "source": [
        "type(a)"
      ],
      "execution_count": 71,
      "outputs": [
        {
          "output_type": "execute_result",
          "data": {
            "text/plain": [
              "set"
            ]
          },
          "metadata": {
            "tags": []
          },
          "execution_count": 71
        }
      ]
    },
    {
      "cell_type": "code",
      "metadata": {
        "colab": {
          "base_uri": "https://localhost:8080/"
        },
        "id": "SyzH_iyO1dje",
        "outputId": "4d2d8c2e-44a4-408d-8e39-fe44f46e9010"
      },
      "source": [
        "a={'a','b','c'}\r\n",
        "type(a)"
      ],
      "execution_count": 72,
      "outputs": [
        {
          "output_type": "execute_result",
          "data": {
            "text/plain": [
              "set"
            ]
          },
          "metadata": {
            "tags": []
          },
          "execution_count": 72
        }
      ]
    },
    {
      "cell_type": "code",
      "metadata": {
        "colab": {
          "base_uri": "https://localhost:8080/"
        },
        "id": "WPISojAU1duo",
        "outputId": "f6973ff9-3fd6-4f56-ce48-fa3cd48e7097"
      },
      "source": [
        "a={'a':'A','b':'B','c':'C'}\r\n",
        "type(a)"
      ],
      "execution_count": 73,
      "outputs": [
        {
          "output_type": "execute_result",
          "data": {
            "text/plain": [
              "dict"
            ]
          },
          "metadata": {
            "tags": []
          },
          "execution_count": 73
        }
      ]
    },
    {
      "cell_type": "code",
      "metadata": {
        "colab": {
          "base_uri": "https://localhost:8080/"
        },
        "id": "X-yVrjAr2KTW",
        "outputId": "2c1e65ed-f96f-4656-93a1-788b1b01324c"
      },
      "source": [
        "a={3,2,3,5}\r\n",
        "a"
      ],
      "execution_count": 75,
      "outputs": [
        {
          "output_type": "execute_result",
          "data": {
            "text/plain": [
              "{2, 3, 5}"
            ]
          },
          "metadata": {
            "tags": []
          },
          "execution_count": 75
        }
      ]
    },
    {
      "cell_type": "code",
      "metadata": {
        "colab": {
          "base_uri": "https://localhost:8080/"
        },
        "id": "sdz4aqTu2Kfk",
        "outputId": "4b761ecd-d56c-4541-bc60-b6fbfe1f60da"
      },
      "source": [
        "#a변수는 다른 str타입인 def를 다시 참조했을 뿐 변경 아님\r\n",
        "a='abc'\r\n",
        "a='def'\r\n",
        "type(a)"
      ],
      "execution_count": 76,
      "outputs": [
        {
          "output_type": "execute_result",
          "data": {
            "text/plain": [
              "str"
            ]
          },
          "metadata": {
            "tags": []
          },
          "execution_count": 76
        }
      ]
    },
    {
      "cell_type": "code",
      "metadata": {
        "colab": {
          "base_uri": "https://localhost:8080/"
        },
        "id": "y8J6zROr28sm",
        "outputId": "4a2558ff-b620-4885-edc5-98c7af92b7ed"
      },
      "source": [
        "a='abc'\r\n",
        "id('abc'),id(a)"
      ],
      "execution_count": 77,
      "outputs": [
        {
          "output_type": "execute_result",
          "data": {
            "text/plain": [
              "(140349598567536, 140349598567536)"
            ]
          },
          "metadata": {
            "tags": []
          },
          "execution_count": 77
        }
      ]
    },
    {
      "cell_type": "code",
      "metadata": {
        "colab": {
          "base_uri": "https://localhost:8080/"
        },
        "id": "cme8L_zK3BHl",
        "outputId": "6b5998dc-0b08-4c99-eb42-41bd726b0d86"
      },
      "source": [
        "#주소가 변경되었을뿐\r\n",
        "a='def'\r\n",
        "id('def'),id(a)"
      ],
      "execution_count": 78,
      "outputs": [
        {
          "output_type": "execute_result",
          "data": {
            "text/plain": [
              "(140349597712176, 140349597712176)"
            ]
          },
          "metadata": {
            "tags": []
          },
          "execution_count": 78
        }
      ]
    },
    {
      "cell_type": "code",
      "metadata": {
        "colab": {
          "base_uri": "https://localhost:8080/"
        },
        "id": "tGHgKWvv3b7d",
        "outputId": "9811f258-3efa-497b-f5f7-2112b06e219c"
      },
      "source": [
        "10\r\n",
        "a=10\r\n",
        "b=a\r\n",
        "id(10),id(a),id(b)"
      ],
      "execution_count": 79,
      "outputs": [
        {
          "output_type": "execute_result",
          "data": {
            "text/plain": [
              "(94594135378720, 94594135378720, 94594135378720)"
            ]
          },
          "metadata": {
            "tags": []
          },
          "execution_count": 79
        }
      ]
    },
    {
      "cell_type": "code",
      "metadata": {
        "colab": {
          "base_uri": "https://localhost:8080/"
        },
        "id": "_-skwhNG7Zir",
        "outputId": "b6be990b-470a-4172-ac2a-42351d1dfbda"
      },
      "source": [
        "a=[1,2,3,4,5]\r\n",
        "b=a\r\n",
        "b"
      ],
      "execution_count": 80,
      "outputs": [
        {
          "output_type": "execute_result",
          "data": {
            "text/plain": [
              "[1, 2, 3, 4, 5]"
            ]
          },
          "metadata": {
            "tags": []
          },
          "execution_count": 80
        }
      ]
    },
    {
      "cell_type": "code",
      "metadata": {
        "colab": {
          "base_uri": "https://localhost:8080/"
        },
        "id": "2mlWBdPy7gWe",
        "outputId": "84bc29b3-888b-4abb-bbe8-e4151742eab0"
      },
      "source": [
        "#b가 바뀐 것은 list가 가변 객체이기에\r\n",
        "a[2]=4\r\n",
        "a,b"
      ],
      "execution_count": 82,
      "outputs": [
        {
          "output_type": "execute_result",
          "data": {
            "text/plain": [
              "([1, 2, 4, 4, 5], [1, 2, 4, 4, 5])"
            ]
          },
          "metadata": {
            "tags": []
          },
          "execution_count": 82
        }
      ]
    },
    {
      "cell_type": "code",
      "metadata": {
        "colab": {
          "base_uri": "https://localhost:8080/"
        },
        "id": "umQLpZ1h76Ic",
        "outputId": "398751b5-c892-4bbc-91cd-4b7863f28370"
      },
      "source": [
        "a=10\r\n",
        "b=a\r\n",
        "id(a),id(b)"
      ],
      "execution_count": 83,
      "outputs": [
        {
          "output_type": "execute_result",
          "data": {
            "text/plain": [
              "(94594135378720, 94594135378720)"
            ]
          },
          "metadata": {
            "tags": []
          },
          "execution_count": 83
        }
      ]
    },
    {
      "cell_type": "code",
      "metadata": {
        "colab": {
          "base_uri": "https://localhost:8080/"
        },
        "id": "zNnIwEfY7qhV",
        "outputId": "8d7eb4bf-3cd6-42ac-e54d-f2f72e759945"
      },
      "source": [
        "#더 이상 b변수는 a변수를 참조하지 않음\r\n",
        "b=7\r\n",
        "a,id(a),id(b)"
      ],
      "execution_count": 84,
      "outputs": [
        {
          "output_type": "execute_result",
          "data": {
            "text/plain": [
              "(10, 94594135378720, 94594135378624)"
            ]
          },
          "metadata": {
            "tags": []
          },
          "execution_count": 84
        }
      ]
    },
    {
      "cell_type": "code",
      "metadata": {
        "colab": {
          "base_uri": "https://localhost:8080/"
        },
        "id": "ylfxBpIq8lLG",
        "outputId": "54a54091-d05a-4aa3-f1bd-d86b0ecbeb1c"
      },
      "source": [
        "a=[1,2,3]\r\n",
        "b=a\r\n",
        "b[2]=5\r\n",
        "a"
      ],
      "execution_count": 85,
      "outputs": [
        {
          "output_type": "execute_result",
          "data": {
            "text/plain": [
              "[1, 2, 5]"
            ]
          },
          "metadata": {
            "tags": []
          },
          "execution_count": 85
        }
      ]
    },
    {
      "cell_type": "code",
      "metadata": {
        "colab": {
          "base_uri": "https://localhost:8080/"
        },
        "id": "qgf4TKVi86yW",
        "outputId": "dfc410c7-a6aa-4d29-9ce9-5dfdb03c785e"
      },
      "source": [
        "#==:값을 비교, is:id()값을 비교\r\n",
        "#a를 list로 한 번 더 묶으면 별도의 객체로 복사\r\n",
        "a=[1,2,3]\r\n",
        "a==a, a==list(a),a is a, a is list(a)"
      ],
      "execution_count": 86,
      "outputs": [
        {
          "output_type": "execute_result",
          "data": {
            "text/plain": [
              "(True, True, True, False)"
            ]
          },
          "metadata": {
            "tags": []
          },
          "execution_count": 86
        }
      ]
    },
    {
      "cell_type": "code",
      "metadata": {
        "colab": {
          "base_uri": "https://localhost:8080/"
        },
        "id": "mOyekh0m-A0h",
        "outputId": "80271ee4-ff24-4443-da4e-09e2cfa41b3f"
      },
      "source": [
        "import copy\r\n",
        "a=[1,2,3]\r\n",
        "a==copy.deepcopy(a),a is copy.deepcopy(a)"
      ],
      "execution_count": 88,
      "outputs": [
        {
          "output_type": "execute_result",
          "data": {
            "text/plain": [
              "(True, False)"
            ]
          },
          "metadata": {
            "tags": []
          },
          "execution_count": 88
        }
      ]
    }
  ]
}